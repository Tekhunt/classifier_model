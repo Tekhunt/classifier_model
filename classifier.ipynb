{
 "cells": [
  {
   "cell_type": "code",
   "execution_count": 2,
   "id": "f059a46b",
   "metadata": {},
   "outputs": [],
   "source": [
    "\"\"\"\n",
    "Amazon Reviews Sentiment Analysis\n",
    "Complete implementation with Logistic Regression, KNN, and VADER comparison\n",
    "Customized for amazonreviews.tsv (Tab-Separated Values) with 'label' and 'review' columns\n",
    "\"\"\"\n",
    "import pandas as pd\n",
    "import numpy as np\n",
    "import matplotlib.pyplot as plt\n",
    "import seaborn as sns\n",
    "from sklearn.model_selection import train_test_split\n",
    "from sklearn.feature_extraction.text import TfidfVectorizer, CountVectorizer\n",
    "from sklearn.linear_model import LogisticRegression\n",
    "from sklearn.neighbors import KNeighborsClassifier\n",
    "from sklearn.metrics import (confusion_matrix, classification_report, \n",
    "                             accuracy_score, precision_score, recall_score, \n",
    "                             f1_score)\n",
    "import re\n",
    "import nltk\n",
    "from nltk.corpus import stopwords\n",
    "from nltk.stem import WordNetLemmatizer\n",
    "from nltk.sentiment.vader import SentimentIntensityAnalyzer\n",
    "import warnings\n",
    "warnings.filterwarnings('ignore')\n",
    "\n",
    "\n",
    "\n"
   ]
  },
  {
   "cell_type": "code",
   "execution_count": 4,
   "id": "d842d7cc",
   "metadata": {},
   "outputs": [
    {
     "name": "stdout",
     "output_type": "stream",
     "text": [
      "================================================================================\n",
      "User Reviews Classification using Logistic Regression\n",
      "================================================================================\n"
     ]
    }
   ],
   "source": [
    "# Download required NLTK data\n",
    "nltk.download('stopwords', quiet=True)\n",
    "nltk.download('wordnet', quiet=True)\n",
    "nltk.download('vader_lexicon', quiet=True)\n",
    "nltk.download('omw-1.4', quiet=True)\n",
    "\n",
    "# Set style\n",
    "plt.style.use('seaborn-v0_8-darkgrid')\n",
    "sns.set_palette(\"husl\")\n",
    "\n",
    "print(\"=\"*80)\n",
    "print(\"User Reviews Classification using Logistic Regression\")\n",
    "print(\"=\"*80)"
   ]
  },
  {
   "cell_type": "code",
   "execution_count": 6,
   "id": "de4e7222",
   "metadata": {},
   "outputs": [
    {
     "name": "stdout",
     "output_type": "stream",
     "text": [
      "\n",
      "[STEP 1] Loading Data...\n",
      "✓ Dataset loaded successfully from 'user_comments.tsv'!\n"
     ]
    }
   ],
   "source": [
    "print(\"\\n[STEP 1] Loading Data...\")\n",
    "\n",
    "data = pd.read_csv('user_comments.tsv', sep='\\t', encoding='utf-8')\n",
    "print(f\"✓ Dataset loaded successfully from 'user_comments.tsv'!\")"
   ]
  },
  {
   "cell_type": "code",
   "execution_count": 7,
   "id": "9e02a5ac",
   "metadata": {},
   "outputs": [],
   "source": [
    "df = data.copy()"
   ]
  },
  {
   "cell_type": "code",
   "execution_count": 8,
   "id": "5eb6eeea",
   "metadata": {},
   "outputs": [
    {
     "name": "stdout",
     "output_type": "stream",
     "text": [
      "  Shape: (10000, 2)\n",
      "  Columns: ['label', 'review']\n"
     ]
    }
   ],
   "source": [
    "print(f\"  Shape: {df.shape}\")\n",
    "print(f\"  Columns: {df.columns.tolist()}\")"
   ]
  },
  {
   "cell_type": "code",
   "execution_count": 9,
   "id": "65ac1fff",
   "metadata": {},
   "outputs": [
    {
     "name": "stdout",
     "output_type": "stream",
     "text": [
      "<class 'pandas.core.frame.DataFrame'>\n",
      "RangeIndex: 10000 entries, 0 to 9999\n",
      "Data columns (total 2 columns):\n",
      " #   Column  Non-Null Count  Dtype \n",
      "---  ------  --------------  ----- \n",
      " 0   label   10000 non-null  object\n",
      " 1   review  10000 non-null  object\n",
      "dtypes: object(2)\n",
      "memory usage: 156.4+ KB\n"
     ]
    }
   ],
   "source": [
    "df.info()"
   ]
  },
  {
   "cell_type": "code",
   "execution_count": 10,
   "id": "1bbd8418",
   "metadata": {},
   "outputs": [
    {
     "data": {
      "text/html": [
       "<div>\n",
       "<style scoped>\n",
       "    .dataframe tbody tr th:only-of-type {\n",
       "        vertical-align: middle;\n",
       "    }\n",
       "\n",
       "    .dataframe tbody tr th {\n",
       "        vertical-align: top;\n",
       "    }\n",
       "\n",
       "    .dataframe thead th {\n",
       "        text-align: right;\n",
       "    }\n",
       "</style>\n",
       "<table border=\"1\" class=\"dataframe\">\n",
       "  <thead>\n",
       "    <tr style=\"text-align: right;\">\n",
       "      <th></th>\n",
       "      <th>label</th>\n",
       "      <th>review</th>\n",
       "    </tr>\n",
       "  </thead>\n",
       "  <tbody>\n",
       "    <tr>\n",
       "      <th>0</th>\n",
       "      <td>pos</td>\n",
       "      <td>Stuning even for the non-gamer: This sound tra...</td>\n",
       "    </tr>\n",
       "    <tr>\n",
       "      <th>1</th>\n",
       "      <td>pos</td>\n",
       "      <td>The best soundtrack ever to anything.: I'm rea...</td>\n",
       "    </tr>\n",
       "    <tr>\n",
       "      <th>2</th>\n",
       "      <td>pos</td>\n",
       "      <td>Amazing!: This soundtrack is my favorite music...</td>\n",
       "    </tr>\n",
       "    <tr>\n",
       "      <th>3</th>\n",
       "      <td>pos</td>\n",
       "      <td>Excellent Soundtrack: I truly like this soundt...</td>\n",
       "    </tr>\n",
       "    <tr>\n",
       "      <th>4</th>\n",
       "      <td>pos</td>\n",
       "      <td>Remember, Pull Your Jaw Off The Floor After He...</td>\n",
       "    </tr>\n",
       "    <tr>\n",
       "      <th>5</th>\n",
       "      <td>pos</td>\n",
       "      <td>an absolute masterpiece: I am quite sure any o...</td>\n",
       "    </tr>\n",
       "    <tr>\n",
       "      <th>6</th>\n",
       "      <td>neg</td>\n",
       "      <td>Buyer beware: This is a self-published book, a...</td>\n",
       "    </tr>\n",
       "    <tr>\n",
       "      <th>7</th>\n",
       "      <td>pos</td>\n",
       "      <td>Glorious story: I loved Whisper of the wicked ...</td>\n",
       "    </tr>\n",
       "    <tr>\n",
       "      <th>8</th>\n",
       "      <td>pos</td>\n",
       "      <td>A FIVE STAR BOOK: I just finished reading Whis...</td>\n",
       "    </tr>\n",
       "    <tr>\n",
       "      <th>9</th>\n",
       "      <td>pos</td>\n",
       "      <td>Whispers of the Wicked Saints: This was a easy...</td>\n",
       "    </tr>\n",
       "  </tbody>\n",
       "</table>\n",
       "</div>"
      ],
      "text/plain": [
       "  label                                             review\n",
       "0   pos  Stuning even for the non-gamer: This sound tra...\n",
       "1   pos  The best soundtrack ever to anything.: I'm rea...\n",
       "2   pos  Amazing!: This soundtrack is my favorite music...\n",
       "3   pos  Excellent Soundtrack: I truly like this soundt...\n",
       "4   pos  Remember, Pull Your Jaw Off The Floor After He...\n",
       "5   pos  an absolute masterpiece: I am quite sure any o...\n",
       "6   neg  Buyer beware: This is a self-published book, a...\n",
       "7   pos  Glorious story: I loved Whisper of the wicked ...\n",
       "8   pos  A FIVE STAR BOOK: I just finished reading Whis...\n",
       "9   pos  Whispers of the Wicked Saints: This was a easy..."
      ]
     },
     "execution_count": 10,
     "metadata": {},
     "output_type": "execute_result"
    }
   ],
   "source": [
    "df.head(10)\n"
   ]
  },
  {
   "cell_type": "code",
   "execution_count": 11,
   "id": "a5d0bc01",
   "metadata": {},
   "outputs": [
    {
     "data": {
      "text/html": [
       "<div>\n",
       "<style scoped>\n",
       "    .dataframe tbody tr th:only-of-type {\n",
       "        vertical-align: middle;\n",
       "    }\n",
       "\n",
       "    .dataframe tbody tr th {\n",
       "        vertical-align: top;\n",
       "    }\n",
       "\n",
       "    .dataframe thead th {\n",
       "        text-align: right;\n",
       "    }\n",
       "</style>\n",
       "<table border=\"1\" class=\"dataframe\">\n",
       "  <thead>\n",
       "    <tr style=\"text-align: right;\">\n",
       "      <th></th>\n",
       "      <th>label</th>\n",
       "      <th>review</th>\n",
       "    </tr>\n",
       "  </thead>\n",
       "  <tbody>\n",
       "    <tr>\n",
       "      <th>count</th>\n",
       "      <td>10000</td>\n",
       "      <td>10000</td>\n",
       "    </tr>\n",
       "    <tr>\n",
       "      <th>unique</th>\n",
       "      <td>2</td>\n",
       "      <td>10000</td>\n",
       "    </tr>\n",
       "    <tr>\n",
       "      <th>top</th>\n",
       "      <td>neg</td>\n",
       "      <td>Stuning even for the non-gamer: This sound tra...</td>\n",
       "    </tr>\n",
       "    <tr>\n",
       "      <th>freq</th>\n",
       "      <td>5097</td>\n",
       "      <td>1</td>\n",
       "    </tr>\n",
       "  </tbody>\n",
       "</table>\n",
       "</div>"
      ],
      "text/plain": [
       "        label                                             review\n",
       "count   10000                                              10000\n",
       "unique      2                                              10000\n",
       "top       neg  Stuning even for the non-gamer: This sound tra...\n",
       "freq     5097                                                  1"
      ]
     },
     "execution_count": 11,
     "metadata": {},
     "output_type": "execute_result"
    }
   ],
   "source": [
    "df.describe()"
   ]
  },
  {
   "cell_type": "code",
   "execution_count": 12,
   "id": "aeccd4dc",
   "metadata": {},
   "outputs": [],
   "source": [
    "if 'label' not in df.columns or 'review' not in df.columns:\n",
    "    print(\"\\n⚠ Looking for correct column names...\")\n",
    "    print(f\"Available columns: {df.columns.tolist()}\")\n",
    "    \n",
    "    # Try to find label column\n",
    "    for col in df.columns:\n",
    "        if col.lower() in ['label', 'sentiment', 'rating', 'score']:\n",
    "            df = df.rename(columns={col: 'label'})\n",
    "            print(f\"✓ Renamed '{col}' to 'label'\")\n",
    "            break\n",
    "    \n",
    "    # Try to find review column\n",
    "    for col in df.columns:\n",
    "        if col.lower() in ['review', 'text', 'comment', 'content']:\n",
    "            df = df.rename(columns={col: 'review'})\n",
    "            print(f\"✓ Renamed '{col}' to 'review'\")\n",
    "            break\n"
   ]
  },
  {
   "cell_type": "code",
   "execution_count": 13,
   "id": "3f8b0175",
   "metadata": {},
   "outputs": [
    {
     "data": {
      "text/html": [
       "<div>\n",
       "<style scoped>\n",
       "    .dataframe tbody tr th:only-of-type {\n",
       "        vertical-align: middle;\n",
       "    }\n",
       "\n",
       "    .dataframe tbody tr th {\n",
       "        vertical-align: top;\n",
       "    }\n",
       "\n",
       "    .dataframe thead th {\n",
       "        text-align: right;\n",
       "    }\n",
       "</style>\n",
       "<table border=\"1\" class=\"dataframe\">\n",
       "  <thead>\n",
       "    <tr style=\"text-align: right;\">\n",
       "      <th></th>\n",
       "      <th>label</th>\n",
       "      <th>review</th>\n",
       "    </tr>\n",
       "  </thead>\n",
       "  <tbody>\n",
       "    <tr>\n",
       "      <th>0</th>\n",
       "      <td>pos</td>\n",
       "      <td>Stuning even for the non-gamer: This sound tra...</td>\n",
       "    </tr>\n",
       "  </tbody>\n",
       "</table>\n",
       "</div>"
      ],
      "text/plain": [
       "  label                                             review\n",
       "0   pos  Stuning even for the non-gamer: This sound tra..."
      ]
     },
     "execution_count": 13,
     "metadata": {},
     "output_type": "execute_result"
    }
   ],
   "source": [
    "df.head(1)"
   ]
  },
  {
   "cell_type": "code",
   "execution_count": 14,
   "id": "7a9e2957",
   "metadata": {},
   "outputs": [
    {
     "data": {
      "text/plain": [
       "label\n",
       "neg    5097\n",
       "pos    4903\n",
       "Name: count, dtype: int64"
      ]
     },
     "execution_count": 14,
     "metadata": {},
     "output_type": "execute_result"
    }
   ],
   "source": [
    "df.label.value_counts()"
   ]
  },
  {
   "cell_type": "code",
   "execution_count": 15,
   "id": "a097470f",
   "metadata": {},
   "outputs": [
    {
     "name": "stdout",
     "output_type": "stream",
     "text": [
      "\n",
      "================================================================================\n",
      "[STEP 2] Checking for Null Values...\n",
      "================================================================================\n",
      "\n",
      "--- Null Value Count ---\n",
      "label     0\n",
      "review    0\n",
      "dtype: int64\n",
      "\n",
      "--- Null Percentage ---\n",
      "\n",
      "✓ No null values found!\n"
     ]
    }
   ],
   "source": [
    "print(\"\\n\" + \"=\"*80)\n",
    "print(\"[STEP 2] Checking for Null Values...\")\n",
    "print(\"=\"*80)\n",
    "\n",
    "null_counts = df.isnull().sum()\n",
    "print(\"\\n--- Null Value Count ---\")\n",
    "print(null_counts)\n",
    "\n",
    "null_percentage = (df.isnull().sum() / len(df)) * 100\n",
    "print(\"\\n--- Null Percentage ---\")\n",
    "for col, pct in null_percentage.items():\n",
    "    if pct > 0:\n",
    "        print(f\"  {col}: {pct:.2f}%\")\n",
    "\n",
    "if null_counts.sum() > 0:\n",
    "    print(f\"\\n⚠ Found {null_counts.sum()} null values\")\n",
    "    print(\"Removing rows with null values...\")\n",
    "    df = df.dropna()\n",
    "    print(f\"✓ Dataset shape after removing nulls: {df.shape}\")\n",
    "else:\n",
    "    print(\"\\n✓ No null values found!\")"
   ]
  },
  {
   "cell_type": "code",
   "execution_count": 16,
   "id": "988a73dc",
   "metadata": {},
   "outputs": [
    {
     "name": "stdout",
     "output_type": "stream",
     "text": [
      "['pos' 'neg']\n"
     ]
    }
   ],
   "source": [
    "print(df['label'].unique())"
   ]
  },
  {
   "cell_type": "code",
   "execution_count": null,
   "id": "174c1031",
   "metadata": {},
   "outputs": [
    {
     "name": "stdout",
     "output_type": "stream",
     "text": [
      "\n",
      "================================================================================\n",
      "[STEP 3] Data Exploration...\n",
      "================================================================================\n",
      "\n",
      "--- Unique Labels ---\n",
      "['pos' 'neg']\n",
      "Number of unique labels: 2\n",
      "\n",
      "--- Sentiment Label Distribution ---\n",
      "label\n",
      "neg    5097\n",
      "pos    4903\n",
      "Name: count, dtype: int64\n",
      "\n",
      "Total samples: 10000\n",
      "Positive samples: 4903 (49.03%)\n",
      "Negative samples: 5097 (50.97%)\n",
      "\n",
      "Class imbalance ratio: 1.04:1\n",
      "✓ Dataset is reasonably balanced.\n"
     ]
    }
   ],
   "source": [
    "print(\"\\n\" + \"=\"*80)\n",
    "print(\"[STEP 3] Data Exploration...\")\n",
    "print(\"=\"*80)\n",
    "\n",
    "# Check unique labels\n",
    "print(\"\\n--- Unique Labels ---\")\n",
    "print(df['label'].unique())\n",
    "print(f\"Number of unique labels: {df['label'].nunique()}\")\n",
    "\n",
    "# Standardize labels to 'pos' and 'neg' if needed\n",
    "label_mapping = {\n",
    "    'positive': 'pos', 'pos': 'pos', '1': 'pos', 1: 'pos', 'good': 'pos',\n",
    "    'negative': 'neg', 'neg': 'neg', '0': 'neg', 0: 'neg', 'bad': 'neg'\n",
    "}\n",
    "\n",
    "if not all(df['label'].isin(['pos', 'neg'])):\n",
    "    print(\"\\n⚠ Standardizing label format...\")\n",
    "    df['label'] = df['label'].astype(str).str.lower().map(lambda x: label_mapping.get(x, x))\n",
    "    print(f\"✓ Labels standardized: {df['label'].unique()}\")\n",
    "\n",
    "# Check Sentiment distribution\n",
    "print(\"\\n--- Sentiment Label Distribution ---\")\n",
    "sentiment_counts = df['label'].value_counts()\n",
    "print(sentiment_counts)\n",
    "print(f\"\\nTotal samples: {len(df)}\")\n",
    "print(f\"Positive samples: {sentiment_counts.get('pos', 0)} ({sentiment_counts.get('pos', 0)/len(df)*100:.2f}%)\")\n",
    "print(f\"Negative samples: {sentiment_counts.get('neg', 0)} ({sentiment_counts.get('neg', 0)/len(df)*100:.2f}%)\")\n",
    "\n",
    "# Check for class imbalance\n",
    "if len(sentiment_counts) > 1:\n",
    "    class_ratio = sentiment_counts.max() / sentiment_counts.min()\n",
    "    print(f\"\\nClass imbalance ratio: {class_ratio:.2f}:1\")\n",
    "    if class_ratio > 2:\n",
    "        print(\"⚠ Warning: Dataset is imbalanced. Using stratified sampling.\")\n",
    "    else:\n",
    "        print(\"✓ Dataset is reasonably balanced.\")"
   ]
  },
  {
   "cell_type": "code",
   "execution_count": null,
   "id": "2e37db85",
   "metadata": {},
   "outputs": [
    {
     "data": {
      "image/png": "[encoded data removed]",
      "text/plain": [
       "<Figure size 1400x500 with 2 Axes>"
      ]
     },
     "metadata": {},
     "output_type": "display_data"
    }
   ],
   "source": [
    "# Visualize sentiment distribution\n",
    "fig, axes = plt.subplots(1, 2, figsize=(14, 5))\n",
    "\n",
    "# Bar plot\n",
    "colors = ['#2ecc71', '#e74c3c']  # Green for positive, Red for negative\n",
    "sentiment_counts.plot(kind='bar', ax=axes[0], color=colors, edgecolor='black', linewidth=1.5)\n",
    "axes[0].set_title('Classification Distribution', fontsize=14, fontweight='bold')\n",
    "axes[0].set_xlabel('Classification', fontsize=12)\n",
    "axes[0].set_ylabel('Count', fontsize=12)\n",
    "axes[0].set_xticklabels(['Positive', 'Negative'], rotation=0)\n",
    "axes[0].grid(axis='y', alpha=0.3)\n",
    "for i, v in enumerate(sentiment_counts):\n",
    "    axes[0].text(i, v + 20, str(v), ha='center', fontweight='bold', fontsize=11)\n",
    "\n",
    "# Pie chart\n",
    "axes[1].pie(sentiment_counts, labels=['Positive', 'Negative'], autopct='%1.1f%%',\n",
    "            colors=colors, startangle=90, explode=(0.05, 0.05),\n",
    "            textprops={'fontsize': 12, 'fontweight': 'bold'})\n",
    "axes[1].set_title('Sentiment Proportion', fontsize=14, fontweight='bold')\n",
    "\n",
    "plt.tight_layout()\n",
    "plt.show()\n",
    "\n",
    "\n",
    "\n",
    "\n"
   ]
  },
  {
   "cell_type": "code",
   "execution_count": null,
   "id": "ae5c601d",
   "metadata": {},
   "outputs": [],
   "source": []
  },
  {
   "cell_type": "code",
   "execution_count": 27,
   "id": "4359882f",
   "metadata": {},
   "outputs": [
    {
     "data": {
      "image/png": "[encoded data removed]",
      "text/plain": [
       "<Figure size 800x500 with 1 Axes>"
      ]
     },
     "metadata": {},
     "output_type": "display_data"
    }
   ],
   "source": [
    "# distributio plot \n",
    "plt.figure(figsize=(8, 5))\n",
    "sns.histplot(data=df, x='label', hue='label', multiple='stack', palette=colors, edgecolor='black', linewidth=1.5)\n",
    "plt.title('Classification Distribution', fontsize=14, fontweight='bold')\n",
    "plt.xlabel('Classification', fontsize=12)\n",
    "plt.ylabel('Count', fontsize=12)\n",
    "plt.xticks(ticks=[0, 1], labels=['Negative', 'Positive'])\n",
    "plt.grid(axis='y', alpha=0.3)\n",
    "for i, v in enumerate(sentiment_counts):\n",
    "    plt.text(i, v + 20, str(v), ha='center', fontweight='bold', fontsize=11)\n",
    "plt.show()  "
   ]
  },
  {
   "cell_type": "code",
   "execution_count": null,
   "id": "a906ba6d",
   "metadata": {},
   "outputs": [],
   "source": []
  },
  {
   "cell_type": "code",
   "execution_count": 19,
   "id": "6d02e806",
   "metadata": {},
   "outputs": [
    {
     "name": "stdout",
     "output_type": "stream",
     "text": [
      "\n",
      "--- Review Length Statistics ---\n",
      "      review_length                                                      \\\n",
      "              count        mean         std    min    25%    50%    75%   \n",
      "label                                                                     \n",
      "neg          5097.0  449.159309  235.109588  101.0  252.0  407.0  615.0   \n",
      "pos          4903.0  427.817459  243.008547  101.0  222.0  370.0  594.0   \n",
      "\n",
      "              word_count                                                        \n",
      "          max      count       mean        std   min   25%   50%    75%    max  \n",
      "label                                                                           \n",
      "neg    1015.0     5097.0  81.744556  42.487401  15.0  47.0  74.0  112.0  212.0  \n",
      "pos    1015.0     4903.0  77.274934  43.460589  14.0  40.0  68.0  106.0  207.0  \n",
      "\n",
      "--- Sample Positive Reviews ---\n",
      "1. Stuning even for the non-gamer: This sound track was beautiful! It paints the senery in your mind so well I would recomend it even to people who hate ...\n",
      "2. The best soundtrack ever to anything.: I'm reading a lot of reviews saying that this is the best 'game soundtrack' and I figured that I'd write a revi...\n",
      "3. Amazing!: This soundtrack is my favorite music of all time, hands down. The intense sadness of \"Prisoners of Fate\" (which means all the more if you've...\n",
      "\n",
      "--- Sample Negative Reviews ---\n",
      "1. Buyer beware: This is a self-published book, and if you want to know why--read a few paragraphs! Those 5 star reviews must have been written by Ms. Ha...\n",
      "2. The Worst!: A complete waste of time. Typographical errors, poor grammar, and a totally pathetic plot add up to absolutely nothing. I'm embarrassed fo...\n",
      "3. Oh please: I guess you have to be a romance novel lover for this one, and not a very discerning one. All others beware! It is absolute drivel. I figur...\n"
     ]
    }
   ],
   "source": [
    "# Review length analysis\n",
    "df['review_length'] = df['review'].astype(str).str.len()\n",
    "df['word_count'] = df['review'].astype(str).str.split().str.len()\n",
    "\n",
    "print(\"\\n--- Review Length Statistics ---\")\n",
    "print(df.groupby('label')[['review_length', 'word_count']].describe())\n",
    "\n",
    "# Sample reviews\n",
    "print(\"\\n--- Sample Positive Reviews ---\")\n",
    "pos_reviews = df[df['label'] == 'pos']['review'].head(3)\n",
    "for i, review in enumerate(pos_reviews):\n",
    "    print(f\"{i+1}. {str(review)[:150]}...\")\n",
    "\n",
    "print(\"\\n--- Sample Negative Reviews ---\")\n",
    "neg_reviews = df[df['label'] == 'neg']['review'].head(3)\n",
    "for i, review in enumerate(neg_reviews):\n",
    "    print(f\"{i+1}. {str(review)[:150]}...\")\n",
    "\n"
   ]
  },
  {
   "cell_type": "code",
   "execution_count": null,
   "id": "a3b16505",
   "metadata": {},
   "outputs": [],
   "source": []
  },
  {
   "cell_type": "code",
   "execution_count": 64,
   "id": "8ba23850",
   "metadata": {},
   "outputs": [
    {
     "name": "stdout",
     "output_type": "stream",
     "text": [
      "\n",
      "================================================================================\n",
      "[STEP 4] Text Preprocessing (with Negation Handling)...\n",
      "================================================================================\n",
      "Preprocessing reviews (this may take a moment)...\n",
      "✓ Text preprocessing completed!\n",
      "\n",
      "--- Example: Before vs After Preprocessing ---\n",
      "\n",
      "Example of Negation Fix:\n",
      "Original: This is not good at all, I'm so disappointed.\n",
      "Cleaned:  not_good disappointed\n",
      "Original: The camera was excellent and never failed me.\n",
      "Cleaned:  camera excellent not_failed\n",
      "Original: It was great, but I didn't get the right size.\n",
      "Cleaned:  great get right size\n",
      "\n",
      "1. Original (pos):\n",
      "   Stuning even for the non-gamer: This sound track was beautiful! It paints the senery in your mind so well I would recome...\n",
      "   Cleaned:\n",
      "   stuning even non gamer sound track beautiful paint senery mind well would recomend even people hate vid game music playe...\n",
      "\n",
      "2. Original (pos):\n",
      "   The best soundtrack ever to anything.: I'm reading a lot of reviews saying that this is the best 'game soundtrack' and I...\n",
      "   Cleaned:\n",
      "   best soundtrack ever anything reading lot review saying best game soundtrack figured write review disagree bit opinino y...\n",
      "\n",
      "3. Original (pos):\n",
      "   Amazing!: This soundtrack is my favorite music of all time, hands down. The intense sadness of \"Prisoners of Fate\" (whic...\n",
      "   Cleaned:\n",
      "   amazing soundtrack favorite music time hand intense sadness prisoner fate mean played game hope distant promise girl sto...\n"
     ]
    }
   ],
   "source": [
    "# # ============================================================================\n",
    "# # STEP 4: TEXT PREPROCESSING\n",
    "# # ============================================================================\n",
    "# print(\"\\n\" + \"=\"*80)\n",
    "# print(\"[STEP 4] Text Preprocessing...\")\n",
    "# print(\"=\"*80)\n",
    "\n",
    "# lemmatizer = WordNetLemmatizer()\n",
    "# stop_words = set(stopwords.words('english'))\n",
    "\n",
    "# def preprocess_text(text):\n",
    "#     \"\"\"Clean and preprocess text\"\"\"\n",
    "#     text = str(text).lower()\n",
    "#     text = re.sub(r'http\\S+|www\\S+|https\\S+', '', text)\n",
    "#     text = re.sub(r'<.*?>', '', text)\n",
    "#     text = re.sub(r'[^a-zA-Z\\s]', '', text)\n",
    "#     text = re.sub(r'\\s+', ' ', text).strip()\n",
    "#     words = text.split()\n",
    "#     words = [lemmatizer.lemmatize(word) for word in words if word not in stop_words and len(word) > 2]\n",
    "#     return ' '.join(words)\n",
    "\n",
    "# print(\"Preprocessing reviews (this may take a moment)...\")\n",
    "# df['clean_review'] = df['review'].apply(preprocess_text)\n",
    "# print(\"✓ Text preprocessing completed!\")\n",
    "\n",
    "# print(\"\\n--- Example: Before vs After Preprocessing ---\")\n",
    "# for i in range(min(3, len(df))):\n",
    "#     print(f\"\\n{i+1}. Original ({df['label'].iloc[i]}):\")\n",
    "#     print(f\"   {str(df['review'].iloc[i])[:120]}...\")\n",
    "#     print(f\"   Cleaned:\")\n",
    "#     print(f\"   {df['clean_review'].iloc[i][:120]}...\")\n",
    "\n",
    "# # Remove empty reviews after preprocessing\n",
    "# original_len = len(df)\n",
    "# df = df[df['clean_review'].str.len() > 0]\n",
    "# removed = original_len - len(df)\n",
    "# if removed > 0:\n",
    "#     print(f\"\\n⚠ Removed {removed} reviews that became empty after preprocessing\")\n",
    "#     print(f\"✓ Final dataset size: {len(df)}\")\n",
    "\n",
    "\n",
    "\n",
    "\n",
    "# ============================================================================\n",
    "# STEP 4: TEXT PREPROCESSING (REVISED with Negation Handling)\n",
    "# ============================================================================\n",
    "print(\"\\n\" + \"=\"*80)\n",
    "print(\"[STEP 4] Text Preprocessing (with Negation Handling)...\")\n",
    "print(\"=\"*80)\n",
    "\n",
    "lemmatizer = WordNetLemmatizer()\n",
    "# We keep the standard stop word set\n",
    "stop_words = set(stopwords.words('english'))\n",
    "# Define common negation terms\n",
    "NEGATION_WORDS = ['not', 'no', 'never', 'n\\'t']\n",
    "\n",
    "\n",
    "def preprocess_text(text):\n",
    "    \"\"\"Clean, handle negation, and preprocess text.\"\"\"\n",
    "    text = str(text).lower()\n",
    "    text = re.sub(r'http\\S+|www\\S+|https\\S+', '', text)\n",
    "    text = re.sub(r'<.*?>', '', text)\n",
    "    \n",
    "    # 1. Tokenize (keeping apostrophes for \"n't\" to be handled correctly)\n",
    "    words = re.findall(r'\\b\\w+\\b|\\S', text) # Simple tokenization\n",
    "    \n",
    "    # 2. NEGATION HANDLING LOOP\n",
    "    new_words = []\n",
    "    i = 0\n",
    "    while i < len(words):\n",
    "        word = words[i]\n",
    "        \n",
    "        # Check if the word is a negation word AND there is a word immediately following it\n",
    "        if word in NEGATION_WORDS and i + 1 < len(words):\n",
    "            next_word = words[i+1]\n",
    "            \n",
    "            # Combine them: 'not' + 'good' -> 'not_good'\n",
    "            new_words.append(f\"not_{next_word}\")\n",
    "            i += 2  # Skip the next word since it's now part of the negation tag\n",
    "        \n",
    "        # Handle cases like \"didn't\" by replacing with \"not_\" and skipping the \"n't\"\n",
    "        elif word.endswith(\"n't\"):\n",
    "            # If \"didn't\", we'll just process it as a single token but it won't be in stop_words\n",
    "            new_words.append(word)\n",
    "            i += 1\n",
    "            \n",
    "        # Standard words\n",
    "        else:\n",
    "            new_words.append(word)\n",
    "            i += 1\n",
    "            \n",
    "    # 3. Final Cleaning, Lemmatization, and Stop Word Removal\n",
    "    # Join and clean again to remove any stray punctuation/symbols\n",
    "    final_text = ' '.join(new_words)\n",
    "    final_text = re.sub(r'[^a-zA-Z_]', ' ', final_text).strip() # only keep letters and underscores\n",
    "    final_words = final_text.split()\n",
    "    \n",
    "    processed_words = [\n",
    "        lemmatizer.lemmatize(word) for word in final_words \n",
    "        if word not in stop_words and len(word) > 2\n",
    "    ]\n",
    "    \n",
    "    return ' '.join(processed_words)\n",
    "\n",
    "print(\"Preprocessing reviews (this may take a moment)...\")\n",
    "df['clean_review'] = df['review'].apply(preprocess_text)\n",
    "print(\"✓ Text preprocessing completed!\")\n",
    "\n",
    "print(\"\\n--- Example: Before vs After Preprocessing ---\")\n",
    "# Use a clear example to demonstrate the fix if possible\n",
    "test_phrases = [\n",
    "    \"This is not good at all, I'm so disappointed.\", # Should result in 'not_good'\n",
    "    \"The camera was excellent and never failed me.\",  # Should result in 'not_failed'\n",
    "    \"It was great, but I didn't get the right size.\"\n",
    "]\n",
    "print(f\"\\nExample of Negation Fix:\")\n",
    "for phrase in test_phrases:\n",
    "    print(f\"Original: {phrase}\")\n",
    "    print(f\"Cleaned:  {preprocess_text(phrase)}\")\n",
    "\n",
    "\n",
    "# Print standard examples\n",
    "for i in range(min(3, len(df))):\n",
    "    print(f\"\\n{i+1}. Original ({df['label'].iloc[i]}):\")\n",
    "    print(f\"   {str(df['review'].iloc[i])[:120]}...\")\n",
    "    print(f\"   Cleaned:\")\n",
    "    print(f\"   {df['clean_review'].iloc[i][:120]}...\")\n",
    "\n",
    "# Remove empty reviews after preprocessing\n",
    "original_len = len(df)\n",
    "df = df[df['clean_review'].str.len() > 0]\n",
    "removed = original_len - len(df)\n",
    "if removed > 0:\n",
    "    print(f\"\\n⚠ Removed {removed} reviews that became empty after preprocessing\")\n",
    "    print(f\"✓ Final dataset size: {len(df)}\")\n"
   ]
  },
  {
   "cell_type": "code",
   "execution_count": null,
   "id": "74d30df9",
   "metadata": {},
   "outputs": [],
   "source": []
  },
  {
   "cell_type": "code",
   "execution_count": 65,
   "id": "f02092a5",
   "metadata": {},
   "outputs": [
    {
     "name": "stdout",
     "output_type": "stream",
     "text": [
      "\n",
      "================================================================================\n",
      "[STEP 5] Feature Extraction (TF-IDF Vectorization)...\n",
      "================================================================================\n",
      "✓ Feature matrix shape: (10000, 10000)\n",
      "✓ Number of samples: 10000\n",
      "✓ Number of features: 10000\n",
      "✓ Sparsity: 99.65%\n"
     ]
    }
   ],
   "source": [
    "# ============================================================================\n",
    "# STEP 5: FEATURE EXTRACTION\n",
    "# ============================================================================\n",
    "print(\"\\n\" + \"=\"*80)\n",
    "print(\"[STEP 5] Feature Extraction (TF-IDF Vectorization)...\")\n",
    "print(\"=\"*80)\n",
    "\n",
    "# vectorizer = TfidfVectorizer(\n",
    "#     max_features=5000,\n",
    "#     ngram_range=(1, 2),\n",
    "#     min_df=2,\n",
    "#     max_df=0.9\n",
    "# )\n",
    "\n",
    "\n",
    "vectorizer = TfidfVectorizer(\n",
    "    max_features=10000, # Increased features\n",
    "    ngram_range=(1, 3), # Increased n-gram range\n",
    "    min_df=2,\n",
    "    max_df=0.85         # Slight decrease in max_df\n",
    ")\n",
    "\n",
    "X = vectorizer.fit_transform(df['clean_review'])\n",
    "y = df['label']\n",
    "\n",
    "print(f\"✓ Feature matrix shape: {X.shape}\")\n",
    "print(f\"✓ Number of samples: {X.shape[0]}\")\n",
    "print(f\"✓ Number of features: {X.shape[1]}\")\n",
    "print(f\"✓ Sparsity: {(1.0 - X.nnz / (X.shape[0] * X.shape[1])) * 100:.2f}%\")\n",
    "\n"
   ]
  },
  {
   "cell_type": "code",
   "execution_count": null,
   "id": "02f2d0bb",
   "metadata": {},
   "outputs": [],
   "source": []
  },
  {
   "cell_type": "code",
   "execution_count": 66,
   "id": "6bc977cc",
   "metadata": {},
   "outputs": [
    {
     "name": "stdout",
     "output_type": "stream",
     "text": [
      "\n",
      "================================================================================\n",
      "[STEP 6] Splitting Data (80% Train, 20% Test)...\n",
      "================================================================================\n",
      "✓ Training set size: 8000 (80.0%)\n",
      "✓ Test set size: 2000 (20.0%)\n",
      "\n",
      "--- Train Set Distribution ---\n",
      "label\n",
      "neg    4078\n",
      "pos    3922\n",
      "Name: count, dtype: int64\n",
      "\n",
      "--- Test Set Distribution ---\n",
      "label\n",
      "neg    1019\n",
      "pos     981\n",
      "Name: count, dtype: int64\n"
     ]
    }
   ],
   "source": [
    "# ============================================================================\n",
    "# STEP 6: TRAIN-TEST SPLIT\n",
    "# ============================================================================\n",
    "print(\"\\n\" + \"=\"*80)\n",
    "print(\"[STEP 6] Splitting Data (80% Train, 20% Test)...\")\n",
    "print(\"=\"*80)\n",
    "\n",
    "X_train, X_test, y_train, y_test = train_test_split(\n",
    "    X, y, test_size=0.2, random_state=42, stratify=y\n",
    ")\n",
    "\n",
    "print(f\"✓ Training set size: {X_train.shape[0]} ({X_train.shape[0]/len(df)*100:.1f}%)\")\n",
    "print(f\"✓ Test set size: {X_test.shape[0]} ({X_test.shape[0]/len(df)*100:.1f}%)\")\n",
    "\n",
    "print(\"\\n--- Train Set Distribution ---\")\n",
    "print(y_train.value_counts())\n",
    "print(\"\\n--- Test Set Distribution ---\")\n",
    "print(y_test.value_counts())\n",
    "\n"
   ]
  },
  {
   "cell_type": "code",
   "execution_count": null,
   "id": "71d8c850",
   "metadata": {},
   "outputs": [],
   "source": []
  },
  {
   "cell_type": "code",
   "execution_count": 67,
   "id": "7a195852",
   "metadata": {},
   "outputs": [
    {
     "name": "stdout",
     "output_type": "stream",
     "text": [
      "\n",
      "================================================================================\n",
      "[STEP 7A] Training Logistic Regression Model...\n",
      "================================================================================\n",
      "Training Logistic Regression...\n",
      "✓ Logistic Regression training completed!\n"
     ]
    }
   ],
   "source": [
    "# ============================================================================\n",
    "# STEP 7: MODEL TRAINING - LOGISTIC REGRESSION\n",
    "# ============================================================================\n",
    "print(\"\\n\" + \"=\"*80)\n",
    "print(\"[STEP 7A] Training Logistic Regression Model...\")\n",
    "print(\"=\"*80)\n",
    "\n",
    "lr_model = LogisticRegression(max_iter=1000, random_state=88, C=1.0, solver='lbfgs')\n",
    "print(\"Training Logistic Regression...\")\n",
    "lr_model.fit(X_train, y_train)\n",
    "y_pred_lr = lr_model.predict(X_test)\n",
    "\n",
    "print(\"✓ Logistic Regression training completed!\")\n",
    "\n",
    "\n"
   ]
  },
  {
   "cell_type": "code",
   "execution_count": null,
   "id": "1ab7c54f",
   "metadata": {},
   "outputs": [],
   "source": []
  },
  {
   "cell_type": "code",
   "execution_count": 80,
   "id": "3bb8a884",
   "metadata": {},
   "outputs": [
    {
     "name": "stdout",
     "output_type": "stream",
     "text": [
      "✅ Model and vectorizer saved successfully!\n"
     ]
    }
   ],
   "source": [
    "import joblib\n",
    "import os\n",
    "\n",
    "# Create a models directory if it doesn't exist\n",
    "os.makedirs(\"models\", exist_ok=True)\n",
    "\n",
    "# Save the model and vectorizer\n",
    "joblib.dump(lr_model, \"models/classifier.pkl\")\n",
    "joblib.dump(vectorizer, \"models/vectorizer.pkl\")\n",
    "\n",
    "print(\"✅ Model and vectorizer saved successfully!\")\n"
   ]
  },
  {
   "cell_type": "code",
   "execution_count": 69,
   "id": "eb3bad4e",
   "metadata": {},
   "outputs": [
    {
     "data": {
      "image/png": "[encoded data removed]",
      "text/plain": [
       "<Figure size 1200x800 with 2 Axes>"
      ]
     },
     "metadata": {},
     "output_type": "display_data"
    }
   ],
   "source": [
    "cm_lr = confusion_matrix(y_test, y_pred_lr, labels=['pos', 'neg'])\n",
    "\n",
    "\n",
    "plt.figure(figsize=(12, 8))\n",
    "\n",
    "sns.heatmap(cm_lr, annot=True, fmt='d', cmap='Blues', \n",
    "            xticklabels=['Positive', 'Negative'], \n",
    "            yticklabels=['Positive', 'Negative'], \n",
    "            annot_kws={'size': 16, 'weight': 'bold'}) # Removed the 'ax' argument\n",
    "\n",
    "plt.title('Logistic Regression\\nConfusion Matrix', fontsize=16, fontweight='bold', pad=20)\n",
    "plt.ylabel('True Label', fontsize=13)\n",
    "plt.xlabel('Predicted Label', fontsize=13)\n",
    "\n",
    "plt.show()"
   ]
  },
  {
   "cell_type": "code",
   "execution_count": null,
   "id": "077affe1",
   "metadata": {},
   "outputs": [],
   "source": []
  },
  {
   "cell_type": "code",
   "execution_count": 70,
   "id": "ead410fd",
   "metadata": {},
   "outputs": [
    {
     "name": "stdout",
     "output_type": "stream",
     "text": [
      "\n",
      "================================================================================\n",
      "[STEP 9] Performance Metrics...\n",
      "================================================================================\n",
      "\n",
      "============================================================\n",
      "LOGISTIC REGRESSION\n",
      "============================================================\n",
      "Accuracy:  0.8605 (86.05%)\n",
      "Precision: 0.8560\n",
      "Recall:    0.8603\n",
      "F1-Score:  0.8582\n",
      "\n",
      "              precision    recall  f1-score   support\n",
      "\n",
      "    Positive       0.86      0.86      0.86      1019\n",
      "    Negative       0.86      0.86      0.86       981\n",
      "\n",
      "    accuracy                           0.86      2000\n",
      "   macro avg       0.86      0.86      0.86      2000\n",
      "weighted avg       0.86      0.86      0.86      2000\n",
      "\n"
     ]
    }
   ],
   "source": [
    "\n",
    "print(\"\\n\" + \"=\"*80)\n",
    "print(\"[STEP 9] Performance Metrics...\")\n",
    "print(\"=\"*80)\n",
    "\n",
    "lr_accuracy = accuracy_score(y_test, y_pred_lr)\n",
    "lr_precision = precision_score(y_test, y_pred_lr, pos_label='pos')\n",
    "lr_recall = recall_score(y_test, y_pred_lr, pos_label='pos')\n",
    "lr_f1 = f1_score(y_test, y_pred_lr, pos_label='pos')\n",
    "\n",
    "print(\"\\n\" + \"=\"*60)\n",
    "print(\"LOGISTIC REGRESSION\")\n",
    "print(\"=\"*60)\n",
    "print(f\"Accuracy:  {lr_accuracy:.4f} ({lr_accuracy*100:.2f}%)\")\n",
    "print(f\"Precision: {lr_precision:.4f}\")\n",
    "print(f\"Recall:    {lr_recall:.4f}\")\n",
    "print(f\"F1-Score:  {lr_f1:.4f}\")\n",
    "print(\"\\n\" + classification_report(y_test, y_pred_lr, target_names=['Positive', 'Negative']))\n",
    "\n"
   ]
  },
  {
   "cell_type": "code",
   "execution_count": 71,
   "id": "56f40781",
   "metadata": {},
   "outputs": [
    {
     "data": {
      "image/png": "[encoded data removed]",
      "text/plain": [
       "<Figure size 1400x700 with 1 Axes>"
      ]
     },
     "metadata": {},
     "output_type": "display_data"
    }
   ],
   "source": [
    "# Performance comparison chart\n",
    "metrics_df = pd.DataFrame({\n",
    "    'Logistic Regression': [lr_accuracy, lr_precision, lr_recall, lr_f1],\n",
    "}, index=['Accuracy', 'Precision', 'Recall', 'F1-Score'])\n",
    "\n",
    "fig, ax = plt.subplots(figsize=(14, 7))\n",
    "metrics_df.plot(kind='bar', ax=ax, width=0.7, color=['#3498db'], edgecolor='black', linewidth=1.5)\n",
    "plt.title('Model Performance: Logistic Regression', fontsize=16, fontweight='bold', pad=20)\n",
    "plt.ylabel('Score', fontsize=13)\n",
    "plt.xlabel('Metrics', fontsize=13)\n",
    "plt.xticks(rotation=45, ha='right')\n",
    "plt.ylim([0, 1.15])\n",
    "plt.legend(loc='lower right', fontsize=12)\n",
    "plt.grid(axis='y', alpha=0.3)\n",
    "\n",
    "for container in ax.containers:\n",
    "    ax.bar_label(container, fmt='%.3f', padding=3, fontweight='bold')\n",
    "\n",
    "plt.tight_layout()\n",
    "plt.show()"
   ]
  },
  {
   "cell_type": "code",
   "execution_count": null,
   "id": "1014e0e8",
   "metadata": {},
   "outputs": [],
   "source": []
  },
  {
   "cell_type": "code",
   "execution_count": 72,
   "id": "647456fd",
   "metadata": {},
   "outputs": [
    {
     "name": "stdout",
     "output_type": "stream",
     "text": [
      "\n",
      "================================================================================\n",
      "[STEP 10] Testing with Random Sentiments...\n",
      "================================================================================\n",
      "\n",
      "================================================================================\n",
      "\n",
      "📝 Review 1: \"This is absolutely amazing! Best product ever!\"\n",
      "   LR:  POS\n",
      "\n",
      "📝 Review 2: \"Terrible experience, worst purchase ever\"\n",
      "   LR:  NEG\n",
      "\n",
      "📝 Review 3: \"Pretty decent, works fine for the price\"\n",
      "   LR:  POS\n",
      "\n",
      "📝 Review 4: \"I love this! Excellent quality!\"\n",
      "   LR:  POS\n",
      "\n",
      "📝 Review 5: \"Horrible quality, broke immediately\"\n",
      "   LR:  NEG\n",
      "\n",
      "📝 Review 6: \"Good value for money, satisfied\"\n",
      "   LR:  POS\n",
      "\n",
      "📝 Review 7: \"Not impressed, expected better\"\n",
      "   LR:  NEG\n",
      "\n",
      "📝 Review 8: \"Outstanding! Exceeded expectations!\"\n",
      "   LR:  POS\n",
      "\n",
      "📝 Review 9: \"Average product, nothing special\"\n",
      "   LR:  NEG\n",
      "\n",
      "📝 Review 10: \"Complete waste of money!\"\n",
      "   LR:  NEG\n"
     ]
    }
   ],
   "source": [
    "\n",
    "print(\"\\n\" + \"=\"*80)\n",
    "print(\"[STEP 10] Testing with Random Sentiments...\")\n",
    "print(\"=\"*80)\n",
    "\n",
    "test_reviews = [\n",
    "    \"This is absolutely amazing! Best product ever!\",\n",
    "    \"Terrible experience, worst purchase ever\",\n",
    "    \"Pretty decent, works fine for the price\",\n",
    "    \"I love this! Excellent quality!\",\n",
    "    \"Horrible quality, broke immediately\",\n",
    "    \"Good value for money, satisfied\",\n",
    "    \"Not impressed, expected better\",\n",
    "    \"Outstanding! Exceeded expectations!\",\n",
    "    \"Average product, nothing special\",\n",
    "    \"Complete waste of money!\"\n",
    "]\n",
    "\n",
    "test_clean = [preprocess_text(review) for review in test_reviews]\n",
    "test_vectors = vectorizer.transform(test_clean)\n",
    "lr_predictions = lr_model.predict(test_vectors)\n",
    "\n",
    "print(\"\\n\" + \"=\"*80)\n",
    "for i, review in enumerate(test_reviews):\n",
    "    print(f\"\\n📝 Review {i+1}: \\\"{review}\\\"\")\n",
    "    print(f\"   LR:  {lr_predictions[i].upper()}\")\n",
    "   \n",
    "\n"
   ]
  },
  {
   "cell_type": "code",
   "execution_count": 81,
   "id": "298e8b41",
   "metadata": {},
   "outputs": [],
   "source": [
    "import joblib \n",
    "\n",
    "def load_and_predict(text_to_analyze: str):\n",
    "    \"\"\"Loads models using joblib and predicts sentiment for a given text.\"\"\"\n",
    "    model = None\n",
    "    vectorizer = None\n",
    "    \n",
    "    # 1. Load the vectorizer and classifier using JOBLIB\n",
    "    try:\n",
    "        # Changed pickle.load to joblib.load\n",
    "        with open('models/vectorizer.pkl', 'rb') as f:\n",
    "            vectorizer = joblib.load(f)\n",
    "        with open('models/classifier.pkl', 'rb') as f:\n",
    "            model = joblib.load(f)\n",
    "        print(\"✓ Models loaded successfully using joblib.\")\n",
    "    except FileNotFoundError:\n",
    "        return {\"error\": \"Model files not found. Check the 'models/' path.\"}\n",
    "    except Exception as e:\n",
    "        # This will now catch joblib-related errors if they occur\n",
    "        return {\"error\": f\"Failed to load models with joblib: {e}\"}\n",
    "\n",
    "    # ... (rest of the prediction logic remains the same)\n",
    "    # 2. Preprocess the input text\n",
    "    cleaned_text = preprocess_text(text_to_analyze)\n",
    "    \n",
    "    if not cleaned_text:\n",
    "        return {\"sentiment\": \"neutral\", \"confidence\": 0.0, \"text\": text_to_analyze}\n",
    "\n",
    "    # 3. Vectorize the text using the LOADED vectorizer\n",
    "    features = vectorizer.transform([cleaned_text])\n",
    "\n",
    "    # 4. Predict sentiment and probabilities\n",
    "    prediction = model.predict(features)[0]\n",
    "    probabilities = model.predict_proba(features)[0]\n",
    "    \n",
    "    # Simple output format\n",
    "    return {\n",
    "        \"text\": text_to_analyze,\n",
    "        \"sentiment\": prediction,\n",
    "        \"confidence\": max(probabilities),\n",
    "        \"probabilities\": {\n",
    "            \"positive\": probabilities[1],\n",
    "            \"negative\": probabilities[0]\n",
    "        }\n",
    "    }"
   ]
  },
  {
   "cell_type": "code",
   "execution_count": 84,
   "id": "9c8f111c",
   "metadata": {},
   "outputs": [
    {
     "name": "stdout",
     "output_type": "stream",
     "text": [
      "✓ Models loaded successfully using joblib.\n"
     ]
    },
    {
     "data": {
      "text/plain": [
       "{'text': \"I think it's good for the weather\",\n",
       " 'sentiment': 'pos',\n",
       " 'confidence': np.float64(0.738148817751622),\n",
       " 'probabilities': {'positive': np.float64(0.738148817751622),\n",
       "  'negative': np.float64(0.261851182248378)}}"
      ]
     },
     "execution_count": 84,
     "metadata": {},
     "output_type": "execute_result"
    }
   ],
   "source": [
    "load_and_predict(\"I think it's good for the weather\")"
   ]
  },
  {
   "cell_type": "code",
   "execution_count": null,
   "id": "e34caca8",
   "metadata": {},
   "outputs": [
    {
     "name": "stdout",
     "output_type": "stream",
     "text": [
      "Downloading NLTK data...\n",
      "\n",
      "========================================\n",
      "ERROR: Could not analyze review 'This product is outstanding and exceeded all my expectations!'.\n",
      "Reason: Failed to load models: invalid load key, '\\x10'.\n",
      "\n",
      "========================================\n",
      "ERROR: Could not analyze review 'Terrible quality. I am extremely disappointed and will return this immediately.'.\n",
      "Reason: Failed to load models: invalid load key, '\\x10'.\n",
      "\n",
      "========================================\n",
      "ERROR: Could not analyze review 'It's okay, nothing special, just an average purchase.'.\n",
      "Reason: Failed to load models: invalid load key, '\\x10'.\n",
      "========================================\n"
     ]
    }
   ],
   "source": [
    "# import pickle\n",
    "# import re\n",
    "# import nltk\n",
    "# from nltk.corpus import stopwords\n",
    "# from nltk.stem import WordNetLemmatizer\n",
    "# from typing import Dict, Any\n",
    "\n",
    "# # Ensure NLTK data is downloaded if not already present\n",
    "# try:\n",
    "#     nltk.data.find('corpora/stopwords')\n",
    "#     nltk.data.find('corpora/wordnet')\n",
    "#     nltk.data.find('corpora/omw-1.4')\n",
    "# except Exception:\n",
    "#     print(\"Downloading NLTK data...\")\n",
    "#     nltk.download('stopwords', quiet=True)\n",
    "#     nltk.download('wordnet', quiet=True)\n",
    "#     nltk.download('omw-1.4', quiet=True)\n",
    "\n",
    "\n",
    "# # --- Re-define Preprocessing Function ---\n",
    "# # (Must be identical to the one used during training!)\n",
    "# lemmatizer = WordNetLemmatizer()\n",
    "# stop_words = set(stopwords.words('english'))\n",
    "\n",
    "# def preprocess_text(text: str) -> str:\n",
    "#     \"\"\"Clean and preprocess text using the same logic as training.\"\"\"\n",
    "#     text = str(text).lower()\n",
    "#     text = re.sub(r'http\\S+|www\\S+|https\\S+', '', text)\n",
    "#     text = re.sub(r'<.*?>', '', text)\n",
    "#     text = re.sub(r'[^a-zA-Z\\s]', '', text)\n",
    "#     text = re.sub(r'\\s+', ' ', text).strip()\n",
    "#     words = text.split()\n",
    "#     words = [lemmatizer.lemmatize(word) for word in words\n",
    "#              if word not in stop_words and len(word) > 2]\n",
    "#     return ' '.join(words)\n",
    "\n",
    "# def load_and_predict(text_to_analyze: str) -> Dict[str, Any]:\n",
    "#     \"\"\"Loads models and predicts sentiment for a given text.\"\"\"\n",
    "#     model = None\n",
    "#     vectorizer = None\n",
    "    \n",
    "#     # 1. Load the vectorizer and classifier\n",
    "#     try:\n",
    "#         with open('lr_models/vectorizer.pkl', 'rb') as f:\n",
    "#             vectorizer = pickle.load(f)\n",
    "#         with open('lr_models/classifier.pkl', 'rb') as f:\n",
    "#             model = pickle.load(f)\n",
    "#         print(\"✓ Models loaded successfully.\")\n",
    "#     except FileNotFoundError:\n",
    "#         return {\"error\": \"Model files not found. Check the 'lr_models/' path.\"}\n",
    "#     except Exception as e:\n",
    "#         return {\"error\": f\"Failed to load models: {e}\"}\n",
    "\n",
    "#     # 2. Preprocess the input text\n",
    "#     cleaned_text = preprocess_text(text_to_analyze)\n",
    "    \n",
    "#     if not cleaned_text:\n",
    "#         return {\"sentiment\": \"neutral\", \"confidence\": 0.0, \"text\": text_to_analyze}\n",
    "\n",
    "#     # 3. Vectorize the text using the LOADED vectorizer\n",
    "#     features = vectorizer.transform([cleaned_text])\n",
    "\n",
    "#     # 4. Predict sentiment and probabilities\n",
    "#     prediction = model.predict(features)[0]\n",
    "#     probabilities = model.predict_proba(features)[0]\n",
    "    \n",
    "#     # Assuming the classes are ['neg', 'pos'] which is standard for LR\n",
    "#     prob_pos = probabilities[1]\n",
    "#     prob_neg = probabilities[0]\n",
    "    \n",
    "#     # Simple output format\n",
    "#     return {\n",
    "#         \"text\": text_to_analyze,\n",
    "#         \"sentiment\": prediction,\n",
    "#         \"confidence\": max(probabilities),\n",
    "#         \"probabilities\": {\n",
    "#             \"positive\": prob_pos,\n",
    "#             \"negative\": prob_neg\n",
    "#         }\n",
    "#     }\n",
    "\n",
    "# # --- Example Usage ---\n",
    "# test_reviews = [\n",
    "#     \"This product is outstanding and exceeded all my expectations!\",\n",
    "#     \"Terrible quality. I am extremely disappointed and will return this immediately.\",\n",
    "#     \"It's okay, nothing special, just an average purchase.\"\n",
    "# ]\n",
    "\n",
    "# # for review in test_reviews:\n",
    "# #     result = load_and_predict(review)\n",
    "# #     print(\"\\n--- Analysis Result ---\")\n",
    "# #     print(f\"Review: {result['text']}\")\n",
    "# #     print(f\"Prediction: {result['sentiment'].upper()} (Confidence: {result['confidence']:.2f})\")\n",
    "# for review in test_reviews:\n",
    "#     result = load_and_predict(review)\n",
    "#     print(\"\\n\" + \"=\"*40)\n",
    "    \n",
    "#     if 'error' in result:\n",
    "#         # Handle the error case returned by load_and_predict\n",
    "#         print(f\"ERROR: Could not analyze review '{review}'.\")\n",
    "#         print(f\"Reason: {result['error']}\")\n",
    "#     else:\n",
    "#         # Handle the successful prediction case\n",
    "#         print(\"--- Analysis Result ---\")\n",
    "#         print(f\"Review: {result['text']}\")\n",
    "#         print(f\"Prediction: {result['sentiment'].upper()} (Confidence: {result['confidence']:.2f})\")\n",
    "#         # Optional: Print probabilities\n",
    "#         print(f\"Probabilities: Pos={result['probabilities']['positive']:.2f}, Neg={result['probabilities']['negative']:.2f}\")\n",
    "\n",
    "# print(\"=\"*40)"
   ]
  },
  {
   "cell_type": "code",
   "execution_count": null,
   "id": "e4d1f586",
   "metadata": {},
   "outputs": [],
   "source": []
  },
  {
   "cell_type": "code",
   "execution_count": null,
   "id": "f87fbf3e",
   "metadata": {},
   "outputs": [],
   "source": []
  },
  {
   "cell_type": "code",
   "execution_count": 76,
   "id": "e8825492",
   "metadata": {},
   "outputs": [],
   "source": [
    "from sklearn.svm import LinearSVC\n",
    "from sklearn.metrics import classification_report, confusion_matrix, accuracy_score\n",
    "import matplotlib.pyplot as plt\n",
    "import seaborn as sns\n",
    "# (Assuming you already have numpy, pandas, TfidfVectorizer, train_test_split)"
   ]
  },
  {
   "cell_type": "code",
   "execution_count": 77,
   "id": "14cc2401",
   "metadata": {},
   "outputs": [
    {
     "name": "stdout",
     "output_type": "stream",
     "text": [
      "\n",
      "================================================================================\n",
      "[STEP 7B] Training Linear Support Vector Machine (LinearSVC)...\n",
      "================================================================================\n",
      "Training LinearSVC...\n",
      "✓ LinearSVC training completed!\n"
     ]
    }
   ],
   "source": [
    "# ============================================================================\n",
    "# STEP 7B: MODEL TRAINING - LINEAR SVM (LinearSVC)\n",
    "# ============================================================================\n",
    "print(\"\\n\" + \"=\"*80)\n",
    "print(\"[STEP 7B] Training Linear Support Vector Machine (LinearSVC)...\")\n",
    "print(\"=\"*80)\n",
    "\n",
    "# LinearSVC is a robust, optimized version for linear kernels, ideal for text.\n",
    "# C=1.0 is the default and a good starting point for the regularization parameter.\n",
    "svm_model = LinearSVC(random_state=88, max_iter=1000, C=1.0) \n",
    "\n",
    "print(\"Training LinearSVC...\")\n",
    "svm_model.fit(X_train, y_train)\n",
    "y_pred_svm = svm_model.predict(X_test)\n",
    "\n",
    "print(\"✓ LinearSVC training completed!\")"
   ]
  },
  {
   "cell_type": "code",
   "execution_count": 78,
   "id": "5a0794b2",
   "metadata": {},
   "outputs": [
    {
     "name": "stdout",
     "output_type": "stream",
     "text": [
      "\n",
      "================================================================================\n",
      "[STEP 8] Evaluating LinearSVC Model...\n",
      "================================================================================\n",
      "Accuracy Score (SVM): 0.8510\n",
      "\n",
      "Classification Report (SVM):\n",
      "               precision    recall  f1-score   support\n",
      "\n",
      "         neg       0.86      0.85      0.85      1019\n",
      "         pos       0.84      0.85      0.85       981\n",
      "\n",
      "    accuracy                           0.85      2000\n",
      "   macro avg       0.85      0.85      0.85      2000\n",
      "weighted avg       0.85      0.85      0.85      2000\n",
      "\n"
     ]
    },
    {
     "data": {
      "image/png": "[encoded data removed]",
      "text/plain": [
       "<Figure size 800x600 with 2 Axes>"
      ]
     },
     "metadata": {},
     "output_type": "display_data"
    }
   ],
   "source": [
    "# ============================================================================\n",
    "# STEP 8: MODEL EVALUATION - SVM\n",
    "# ============================================================================\n",
    "print(\"\\n\" + \"=\"*80)\n",
    "print(\"[STEP 8] Evaluating LinearSVC Model...\")\n",
    "print(\"=\"*80)\n",
    "\n",
    "# 1. Accuracy and Report\n",
    "svm_accuracy = accuracy_score(y_test, y_pred_svm)\n",
    "print(f\"Accuracy Score (SVM): {svm_accuracy:.4f}\")\n",
    "print(\"\\nClassification Report (SVM):\\n\", classification_report(y_test, y_pred_svm))\n",
    "\n",
    "# 2. Confusion Matrix\n",
    "cm_svm = confusion_matrix(y_test, y_pred_svm, labels=['pos', 'neg'])\n",
    "\n",
    "# 3. Plotting the Confusion Matrix (Single Figure Setup)\n",
    "plt.figure(figsize=(8, 6))\n",
    "sns.heatmap(cm_svm, annot=True, fmt='d', cmap='Blues', \n",
    "            xticklabels=['Positive', 'Negative'], \n",
    "            yticklabels=['Positive', 'Negative'], \n",
    "            annot_kws={'size': 16, 'weight': 'bold'})\n",
    "plt.title('LinearSVC Confusion Matrix', fontsize=16, fontweight='bold', pad=20)\n",
    "plt.ylabel('True Label', fontsize=13)\n",
    "plt.xlabel('Predicted Label', fontsize=13)\n",
    "plt.show()"
   ]
  },
  {
   "cell_type": "code",
   "execution_count": 79,
   "id": "fc990f42",
   "metadata": {},
   "outputs": [
    {
     "name": "stdout",
     "output_type": "stream",
     "text": [
      "\n",
      "Starting Grid Search for LinearSVC C parameter...\n",
      "\n",
      "Optimal C parameter found: 0.1\n",
      "Accuracy Score (Tuned SVM, C=0.1): 0.8585\n"
     ]
    }
   ],
   "source": [
    "from sklearn.model_selection import GridSearchCV\n",
    "\n",
    "# Define the parameter grid (range of C values to test)\n",
    "param_grid = {'C': [0.01, 0.1, 1.0, 10.0, 100.0]}\n",
    "\n",
    "# Initialize the GridSearchCV object\n",
    "grid_search = GridSearchCV(\n",
    "    LinearSVC(random_state=88, max_iter=2000), \n",
    "    param_grid, \n",
    "    cv=5,                 # Use 5-fold cross-validation\n",
    "    scoring='accuracy',   # Optimize for accuracy\n",
    "    n_jobs=-1             # Use all available CPU cores\n",
    ")\n",
    "\n",
    "print(\"\\nStarting Grid Search for LinearSVC C parameter...\")\n",
    "grid_search.fit(X_train, y_train)\n",
    "\n",
    "# Get the best model and parameters\n",
    "best_svm_model = grid_search.best_estimator_\n",
    "best_c = grid_search.best_params_['C']\n",
    "\n",
    "print(f\"\\nOptimal C parameter found: {best_c}\")\n",
    "\n",
    "# Predict and evaluate with the optimized model\n",
    "y_pred_tuned_svm = best_svm_model.predict(X_test)\n",
    "tuned_accuracy = accuracy_score(y_test, y_pred_tuned_svm)\n",
    "\n",
    "print(f\"Accuracy Score (Tuned SVM, C={best_c}): {tuned_accuracy:.4f}\")"
   ]
  },
  {
   "cell_type": "code",
   "execution_count": null,
   "id": "acc3d3f6",
   "metadata": {},
   "outputs": [],
   "source": []
  }
 ],
 "metadata": {
  "kernelspec": {
   "display_name": "nlpenv (3.11.0)",
   "language": "python",
   "name": "python3"
  },
  "language_info": {
   "codemirror_mode": {
    "name": "ipython",
    "version": 3
   },
   "file_extension": ".py",
   "mimetype": "text/x-python",
   "name": "python",
   "nbconvert_exporter": "python",
   "pygments_lexer": "ipython3",
   "version": "3.11.0"
  }
 },
 "nbformat": 4,
 "nbformat_minor": 5
}
